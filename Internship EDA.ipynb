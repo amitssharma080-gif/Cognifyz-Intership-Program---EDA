{
 "cells": [
  {
   "cell_type": "markdown",
   "id": "3f123b99-e6e2-4909-aa0d-55009a054e67",
   "metadata": {},
   "source": [
    "# Cognifyz Internship Program - EDA"
   ]
  },
  {
   "cell_type": "code",
   "execution_count": null,
   "id": "e421a7e9-1a60-4dde-bd54-87dedb4398a0",
   "metadata": {},
   "outputs": [],
   "source": []
  },
  {
   "cell_type": "code",
   "execution_count": 30,
   "id": "ba8f62cb-3784-4e6a-9b8c-c41ebbaa8d89",
   "metadata": {},
   "outputs": [],
   "source": [
    "import pandas as pd\n",
    "import numpy as np\n",
    "import matplotlib.pyplot as plt\n",
    "import seaborn as sns\n",
    "import re\n",
    "from collections import Counter"
   ]
  },
  {
   "cell_type": "code",
   "execution_count": 32,
   "id": "7e915574-1f6a-43d1-bed0-e8b3f6d8de01",
   "metadata": {},
   "outputs": [],
   "source": [
    "df = pd.read_csv(\"Internship Dataset.csv\")"
   ]
  },
  {
   "cell_type": "code",
   "execution_count": 34,
   "id": "4e09ef5a-5e40-4a8c-aa6d-c591624f21b0",
   "metadata": {},
   "outputs": [],
   "source": [
    "df.columns = df.columns.str.strip().str.lower().str.replace(\" \", \"_\")"
   ]
  },
  {
   "cell_type": "code",
   "execution_count": 36,
   "id": "04463046-5cef-4b91-89f2-f3c93da9507d",
   "metadata": {},
   "outputs": [],
   "source": [
    "col_name = \"restaurant_name\" if \"restaurant_name\" in df.columns else df.columns[0]\n",
    "col_city = \"city\" if \"city\" in df.columns else None\n",
    "col_cuisines = \"cuisines\" if \"cuisines\" in df.columns else None\n",
    "col_rating = \"aggregate_rating\" if \"aggregate_rating\" in df.columns else None\n",
    "col_votes = \"votes\" if \"votes\" in df.columns else None\n",
    "col_price = \"price_range\" if \"price_range\" in df.columns else None\n",
    "col_online = \"has_online_delivery\" if \"has_online_delivery\" in df.columns else None\n",
    "col_table = \"has_table_booking\" if \"has_table_booking\" in df.columns else None"
   ]
  },
  {
   "cell_type": "code",
   "execution_count": 19,
   "id": "a625e620-8e01-4dce-bdc9-7e64b1c0c4e3",
   "metadata": {},
   "outputs": [
    {
     "data": {
      "text/html": [
       "<div>\n",
       "<style scoped>\n",
       "    .dataframe tbody tr th:only-of-type {\n",
       "        vertical-align: middle;\n",
       "    }\n",
       "\n",
       "    .dataframe tbody tr th {\n",
       "        vertical-align: top;\n",
       "    }\n",
       "\n",
       "    .dataframe thead th {\n",
       "        text-align: right;\n",
       "    }\n",
       "</style>\n",
       "<table border=\"1\" class=\"dataframe\">\n",
       "  <thead>\n",
       "    <tr style=\"text-align: right;\">\n",
       "      <th></th>\n",
       "      <th>restaurant_id</th>\n",
       "      <th>restaurant_name</th>\n",
       "      <th>country_code</th>\n",
       "      <th>city</th>\n",
       "      <th>address</th>\n",
       "      <th>locality</th>\n",
       "      <th>locality_verbose</th>\n",
       "      <th>longitude</th>\n",
       "      <th>latitude</th>\n",
       "      <th>cuisines</th>\n",
       "      <th>...</th>\n",
       "      <th>currency</th>\n",
       "      <th>has_table_booking</th>\n",
       "      <th>has_online_delivery</th>\n",
       "      <th>is_delivering_now</th>\n",
       "      <th>switch_to_order_menu</th>\n",
       "      <th>price_range</th>\n",
       "      <th>aggregate_rating</th>\n",
       "      <th>rating_color</th>\n",
       "      <th>rating_text</th>\n",
       "      <th>votes</th>\n",
       "    </tr>\n",
       "  </thead>\n",
       "  <tbody>\n",
       "    <tr>\n",
       "      <th>0</th>\n",
       "      <td>6317637</td>\n",
       "      <td>Le Petit Souffle</td>\n",
       "      <td>162</td>\n",
       "      <td>Makati City</td>\n",
       "      <td>Third Floor, Century City Mall, Kalayaan Avenu...</td>\n",
       "      <td>Century City Mall, Poblacion, Makati City</td>\n",
       "      <td>Century City Mall, Poblacion, Makati City, Mak...</td>\n",
       "      <td>121.027535</td>\n",
       "      <td>14.565443</td>\n",
       "      <td>French, Japanese, Desserts</td>\n",
       "      <td>...</td>\n",
       "      <td>Botswana Pula(P)</td>\n",
       "      <td>Yes</td>\n",
       "      <td>No</td>\n",
       "      <td>No</td>\n",
       "      <td>No</td>\n",
       "      <td>3</td>\n",
       "      <td>4.8</td>\n",
       "      <td>Dark Green</td>\n",
       "      <td>Excellent</td>\n",
       "      <td>314</td>\n",
       "    </tr>\n",
       "    <tr>\n",
       "      <th>1</th>\n",
       "      <td>6304287</td>\n",
       "      <td>Izakaya Kikufuji</td>\n",
       "      <td>162</td>\n",
       "      <td>Makati City</td>\n",
       "      <td>Little Tokyo, 2277 Chino Roces Avenue, Legaspi...</td>\n",
       "      <td>Little Tokyo, Legaspi Village, Makati City</td>\n",
       "      <td>Little Tokyo, Legaspi Village, Makati City, Ma...</td>\n",
       "      <td>121.014101</td>\n",
       "      <td>14.553708</td>\n",
       "      <td>Japanese</td>\n",
       "      <td>...</td>\n",
       "      <td>Botswana Pula(P)</td>\n",
       "      <td>Yes</td>\n",
       "      <td>No</td>\n",
       "      <td>No</td>\n",
       "      <td>No</td>\n",
       "      <td>3</td>\n",
       "      <td>4.5</td>\n",
       "      <td>Dark Green</td>\n",
       "      <td>Excellent</td>\n",
       "      <td>591</td>\n",
       "    </tr>\n",
       "    <tr>\n",
       "      <th>2</th>\n",
       "      <td>6300002</td>\n",
       "      <td>Heat - Edsa Shangri-La</td>\n",
       "      <td>162</td>\n",
       "      <td>Mandaluyong City</td>\n",
       "      <td>Edsa Shangri-La, 1 Garden Way, Ortigas, Mandal...</td>\n",
       "      <td>Edsa Shangri-La, Ortigas, Mandaluyong City</td>\n",
       "      <td>Edsa Shangri-La, Ortigas, Mandaluyong City, Ma...</td>\n",
       "      <td>121.056831</td>\n",
       "      <td>14.581404</td>\n",
       "      <td>Seafood, Asian, Filipino, Indian</td>\n",
       "      <td>...</td>\n",
       "      <td>Botswana Pula(P)</td>\n",
       "      <td>Yes</td>\n",
       "      <td>No</td>\n",
       "      <td>No</td>\n",
       "      <td>No</td>\n",
       "      <td>4</td>\n",
       "      <td>4.4</td>\n",
       "      <td>Green</td>\n",
       "      <td>Very Good</td>\n",
       "      <td>270</td>\n",
       "    </tr>\n",
       "    <tr>\n",
       "      <th>3</th>\n",
       "      <td>6318506</td>\n",
       "      <td>Ooma</td>\n",
       "      <td>162</td>\n",
       "      <td>Mandaluyong City</td>\n",
       "      <td>Third Floor, Mega Fashion Hall, SM Megamall, O...</td>\n",
       "      <td>SM Megamall, Ortigas, Mandaluyong City</td>\n",
       "      <td>SM Megamall, Ortigas, Mandaluyong City, Mandal...</td>\n",
       "      <td>121.056475</td>\n",
       "      <td>14.585318</td>\n",
       "      <td>Japanese, Sushi</td>\n",
       "      <td>...</td>\n",
       "      <td>Botswana Pula(P)</td>\n",
       "      <td>No</td>\n",
       "      <td>No</td>\n",
       "      <td>No</td>\n",
       "      <td>No</td>\n",
       "      <td>4</td>\n",
       "      <td>4.9</td>\n",
       "      <td>Dark Green</td>\n",
       "      <td>Excellent</td>\n",
       "      <td>365</td>\n",
       "    </tr>\n",
       "    <tr>\n",
       "      <th>4</th>\n",
       "      <td>6314302</td>\n",
       "      <td>Sambo Kojin</td>\n",
       "      <td>162</td>\n",
       "      <td>Mandaluyong City</td>\n",
       "      <td>Third Floor, Mega Atrium, SM Megamall, Ortigas...</td>\n",
       "      <td>SM Megamall, Ortigas, Mandaluyong City</td>\n",
       "      <td>SM Megamall, Ortigas, Mandaluyong City, Mandal...</td>\n",
       "      <td>121.057508</td>\n",
       "      <td>14.584450</td>\n",
       "      <td>Japanese, Korean</td>\n",
       "      <td>...</td>\n",
       "      <td>Botswana Pula(P)</td>\n",
       "      <td>Yes</td>\n",
       "      <td>No</td>\n",
       "      <td>No</td>\n",
       "      <td>No</td>\n",
       "      <td>4</td>\n",
       "      <td>4.8</td>\n",
       "      <td>Dark Green</td>\n",
       "      <td>Excellent</td>\n",
       "      <td>229</td>\n",
       "    </tr>\n",
       "    <tr>\n",
       "      <th>...</th>\n",
       "      <td>...</td>\n",
       "      <td>...</td>\n",
       "      <td>...</td>\n",
       "      <td>...</td>\n",
       "      <td>...</td>\n",
       "      <td>...</td>\n",
       "      <td>...</td>\n",
       "      <td>...</td>\n",
       "      <td>...</td>\n",
       "      <td>...</td>\n",
       "      <td>...</td>\n",
       "      <td>...</td>\n",
       "      <td>...</td>\n",
       "      <td>...</td>\n",
       "      <td>...</td>\n",
       "      <td>...</td>\n",
       "      <td>...</td>\n",
       "      <td>...</td>\n",
       "      <td>...</td>\n",
       "      <td>...</td>\n",
       "      <td>...</td>\n",
       "    </tr>\n",
       "    <tr>\n",
       "      <th>9546</th>\n",
       "      <td>5915730</td>\n",
       "      <td>Naml۱ Gurme</td>\n",
       "      <td>208</td>\n",
       "      <td>��stanbul</td>\n",
       "      <td>Kemanke�� Karamustafa Pa��a Mahallesi, R۱ht۱m ...</td>\n",
       "      <td>Karak�_y</td>\n",
       "      <td>Karak�_y, ��stanbul</td>\n",
       "      <td>28.977392</td>\n",
       "      <td>41.022793</td>\n",
       "      <td>Turkish</td>\n",
       "      <td>...</td>\n",
       "      <td>Turkish Lira(TL)</td>\n",
       "      <td>No</td>\n",
       "      <td>No</td>\n",
       "      <td>No</td>\n",
       "      <td>No</td>\n",
       "      <td>3</td>\n",
       "      <td>4.1</td>\n",
       "      <td>Green</td>\n",
       "      <td>Very Good</td>\n",
       "      <td>788</td>\n",
       "    </tr>\n",
       "    <tr>\n",
       "      <th>9547</th>\n",
       "      <td>5908749</td>\n",
       "      <td>Ceviz A��ac۱</td>\n",
       "      <td>208</td>\n",
       "      <td>��stanbul</td>\n",
       "      <td>Ko��uyolu Mahallesi, Muhittin ��st�_nda�� Cadd...</td>\n",
       "      <td>Ko��uyolu</td>\n",
       "      <td>Ko��uyolu, ��stanbul</td>\n",
       "      <td>29.041297</td>\n",
       "      <td>41.009847</td>\n",
       "      <td>World Cuisine, Patisserie, Cafe</td>\n",
       "      <td>...</td>\n",
       "      <td>Turkish Lira(TL)</td>\n",
       "      <td>No</td>\n",
       "      <td>No</td>\n",
       "      <td>No</td>\n",
       "      <td>No</td>\n",
       "      <td>3</td>\n",
       "      <td>4.2</td>\n",
       "      <td>Green</td>\n",
       "      <td>Very Good</td>\n",
       "      <td>1034</td>\n",
       "    </tr>\n",
       "    <tr>\n",
       "      <th>9548</th>\n",
       "      <td>5915807</td>\n",
       "      <td>Huqqa</td>\n",
       "      <td>208</td>\n",
       "      <td>��stanbul</td>\n",
       "      <td>Kuru�_e��me Mahallesi, Muallim Naci Caddesi, N...</td>\n",
       "      <td>Kuru�_e��me</td>\n",
       "      <td>Kuru�_e��me, ��stanbul</td>\n",
       "      <td>29.034640</td>\n",
       "      <td>41.055817</td>\n",
       "      <td>Italian, World Cuisine</td>\n",
       "      <td>...</td>\n",
       "      <td>Turkish Lira(TL)</td>\n",
       "      <td>No</td>\n",
       "      <td>No</td>\n",
       "      <td>No</td>\n",
       "      <td>No</td>\n",
       "      <td>4</td>\n",
       "      <td>3.7</td>\n",
       "      <td>Yellow</td>\n",
       "      <td>Good</td>\n",
       "      <td>661</td>\n",
       "    </tr>\n",
       "    <tr>\n",
       "      <th>9549</th>\n",
       "      <td>5916112</td>\n",
       "      <td>A���k Kahve</td>\n",
       "      <td>208</td>\n",
       "      <td>��stanbul</td>\n",
       "      <td>Kuru�_e��me Mahallesi, Muallim Naci Caddesi, N...</td>\n",
       "      <td>Kuru�_e��me</td>\n",
       "      <td>Kuru�_e��me, ��stanbul</td>\n",
       "      <td>29.036019</td>\n",
       "      <td>41.057979</td>\n",
       "      <td>Restaurant Cafe</td>\n",
       "      <td>...</td>\n",
       "      <td>Turkish Lira(TL)</td>\n",
       "      <td>No</td>\n",
       "      <td>No</td>\n",
       "      <td>No</td>\n",
       "      <td>No</td>\n",
       "      <td>4</td>\n",
       "      <td>4.0</td>\n",
       "      <td>Green</td>\n",
       "      <td>Very Good</td>\n",
       "      <td>901</td>\n",
       "    </tr>\n",
       "    <tr>\n",
       "      <th>9550</th>\n",
       "      <td>5927402</td>\n",
       "      <td>Walter's Coffee Roastery</td>\n",
       "      <td>208</td>\n",
       "      <td>��stanbul</td>\n",
       "      <td>Cafea��a Mahallesi, Bademalt۱ Sokak, No 21/B, ...</td>\n",
       "      <td>Moda</td>\n",
       "      <td>Moda, ��stanbul</td>\n",
       "      <td>29.026016</td>\n",
       "      <td>40.984776</td>\n",
       "      <td>Cafe</td>\n",
       "      <td>...</td>\n",
       "      <td>Turkish Lira(TL)</td>\n",
       "      <td>No</td>\n",
       "      <td>No</td>\n",
       "      <td>No</td>\n",
       "      <td>No</td>\n",
       "      <td>2</td>\n",
       "      <td>4.0</td>\n",
       "      <td>Green</td>\n",
       "      <td>Very Good</td>\n",
       "      <td>591</td>\n",
       "    </tr>\n",
       "  </tbody>\n",
       "</table>\n",
       "<p>9551 rows × 21 columns</p>\n",
       "</div>"
      ],
      "text/plain": [
       "      restaurant_id           restaurant_name  country_code              city  \\\n",
       "0           6317637          Le Petit Souffle           162       Makati City   \n",
       "1           6304287          Izakaya Kikufuji           162       Makati City   \n",
       "2           6300002    Heat - Edsa Shangri-La           162  Mandaluyong City   \n",
       "3           6318506                      Ooma           162  Mandaluyong City   \n",
       "4           6314302               Sambo Kojin           162  Mandaluyong City   \n",
       "...             ...                       ...           ...               ...   \n",
       "9546        5915730               Naml۱ Gurme           208         ��stanbul   \n",
       "9547        5908749              Ceviz A��ac۱           208         ��stanbul   \n",
       "9548        5915807                     Huqqa           208         ��stanbul   \n",
       "9549        5916112               A���k Kahve           208         ��stanbul   \n",
       "9550        5927402  Walter's Coffee Roastery           208         ��stanbul   \n",
       "\n",
       "                                                address  \\\n",
       "0     Third Floor, Century City Mall, Kalayaan Avenu...   \n",
       "1     Little Tokyo, 2277 Chino Roces Avenue, Legaspi...   \n",
       "2     Edsa Shangri-La, 1 Garden Way, Ortigas, Mandal...   \n",
       "3     Third Floor, Mega Fashion Hall, SM Megamall, O...   \n",
       "4     Third Floor, Mega Atrium, SM Megamall, Ortigas...   \n",
       "...                                                 ...   \n",
       "9546  Kemanke�� Karamustafa Pa��a Mahallesi, R۱ht۱m ...   \n",
       "9547  Ko��uyolu Mahallesi, Muhittin ��st�_nda�� Cadd...   \n",
       "9548  Kuru�_e��me Mahallesi, Muallim Naci Caddesi, N...   \n",
       "9549  Kuru�_e��me Mahallesi, Muallim Naci Caddesi, N...   \n",
       "9550  Cafea��a Mahallesi, Bademalt۱ Sokak, No 21/B, ...   \n",
       "\n",
       "                                        locality  \\\n",
       "0      Century City Mall, Poblacion, Makati City   \n",
       "1     Little Tokyo, Legaspi Village, Makati City   \n",
       "2     Edsa Shangri-La, Ortigas, Mandaluyong City   \n",
       "3         SM Megamall, Ortigas, Mandaluyong City   \n",
       "4         SM Megamall, Ortigas, Mandaluyong City   \n",
       "...                                          ...   \n",
       "9546                                    Karak�_y   \n",
       "9547                                   Ko��uyolu   \n",
       "9548                                 Kuru�_e��me   \n",
       "9549                                 Kuru�_e��me   \n",
       "9550                                        Moda   \n",
       "\n",
       "                                       locality_verbose   longitude  \\\n",
       "0     Century City Mall, Poblacion, Makati City, Mak...  121.027535   \n",
       "1     Little Tokyo, Legaspi Village, Makati City, Ma...  121.014101   \n",
       "2     Edsa Shangri-La, Ortigas, Mandaluyong City, Ma...  121.056831   \n",
       "3     SM Megamall, Ortigas, Mandaluyong City, Mandal...  121.056475   \n",
       "4     SM Megamall, Ortigas, Mandaluyong City, Mandal...  121.057508   \n",
       "...                                                 ...         ...   \n",
       "9546                                Karak�_y, ��stanbul   28.977392   \n",
       "9547                               Ko��uyolu, ��stanbul   29.041297   \n",
       "9548                             Kuru�_e��me, ��stanbul   29.034640   \n",
       "9549                             Kuru�_e��me, ��stanbul   29.036019   \n",
       "9550                                    Moda, ��stanbul   29.026016   \n",
       "\n",
       "       latitude                          cuisines  ...          currency  \\\n",
       "0     14.565443        French, Japanese, Desserts  ...  Botswana Pula(P)   \n",
       "1     14.553708                          Japanese  ...  Botswana Pula(P)   \n",
       "2     14.581404  Seafood, Asian, Filipino, Indian  ...  Botswana Pula(P)   \n",
       "3     14.585318                   Japanese, Sushi  ...  Botswana Pula(P)   \n",
       "4     14.584450                  Japanese, Korean  ...  Botswana Pula(P)   \n",
       "...         ...                               ...  ...               ...   \n",
       "9546  41.022793                           Turkish  ...  Turkish Lira(TL)   \n",
       "9547  41.009847   World Cuisine, Patisserie, Cafe  ...  Turkish Lira(TL)   \n",
       "9548  41.055817            Italian, World Cuisine  ...  Turkish Lira(TL)   \n",
       "9549  41.057979                   Restaurant Cafe  ...  Turkish Lira(TL)   \n",
       "9550  40.984776                              Cafe  ...  Turkish Lira(TL)   \n",
       "\n",
       "     has_table_booking has_online_delivery is_delivering_now  \\\n",
       "0                  Yes                  No                No   \n",
       "1                  Yes                  No                No   \n",
       "2                  Yes                  No                No   \n",
       "3                   No                  No                No   \n",
       "4                  Yes                  No                No   \n",
       "...                ...                 ...               ...   \n",
       "9546                No                  No                No   \n",
       "9547                No                  No                No   \n",
       "9548                No                  No                No   \n",
       "9549                No                  No                No   \n",
       "9550                No                  No                No   \n",
       "\n",
       "     switch_to_order_menu price_range  aggregate_rating  rating_color  \\\n",
       "0                      No           3               4.8    Dark Green   \n",
       "1                      No           3               4.5    Dark Green   \n",
       "2                      No           4               4.4         Green   \n",
       "3                      No           4               4.9    Dark Green   \n",
       "4                      No           4               4.8    Dark Green   \n",
       "...                   ...         ...               ...           ...   \n",
       "9546                   No           3               4.1         Green   \n",
       "9547                   No           3               4.2         Green   \n",
       "9548                   No           4               3.7        Yellow   \n",
       "9549                   No           4               4.0         Green   \n",
       "9550                   No           2               4.0         Green   \n",
       "\n",
       "     rating_text votes  \n",
       "0      Excellent   314  \n",
       "1      Excellent   591  \n",
       "2      Very Good   270  \n",
       "3      Excellent   365  \n",
       "4      Excellent   229  \n",
       "...          ...   ...  \n",
       "9546   Very Good   788  \n",
       "9547   Very Good  1034  \n",
       "9548        Good   661  \n",
       "9549   Very Good   901  \n",
       "9550   Very Good   591  \n",
       "\n",
       "[9551 rows x 21 columns]"
      ]
     },
     "execution_count": 19,
     "metadata": {},
     "output_type": "execute_result"
    }
   ],
   "source": [
    "df"
   ]
  },
  {
   "cell_type": "code",
   "execution_count": 21,
   "id": "7c55585f-b144-417e-8ff2-b87bc1c34bb8",
   "metadata": {},
   "outputs": [],
   "source": [
    "def split_cuisines(val):\n",
    "    if pd.isna(val): return []\n",
    "    return [c.strip() for c in re.split(r\"[,/]| & \", str(val)) if c.strip()]"
   ]
  },
  {
   "cell_type": "markdown",
   "id": "30952640-e3b9-489e-8cc9-f8cd91fc974f",
   "metadata": {},
   "source": [
    "# Level 1"
   ]
  },
  {
   "cell_type": "markdown",
   "id": "0bfc367f-6d66-42f0-844b-c7c41bd5dff3",
   "metadata": {},
   "source": [
    "### Top Cuisines - Determine the top three most common cuisines in the dataset."
   ]
  },
  {
   "cell_type": "code",
   "execution_count": 38,
   "id": "2eb81b45-f3b7-467a-92bc-d0e91ce1e4f7",
   "metadata": {},
   "outputs": [
    {
     "name": "stdout",
     "output_type": "stream",
     "text": [
      "\n",
      "Task 1: Top 3 Cuisines\n",
      "North Indian    3960\n",
      "Chinese         2735\n",
      "Fast Food       1986\n",
      "dtype: int64\n"
     ]
    }
   ],
   "source": [
    "if col_cuisines:\n",
    "    df[\"_cuisine_list\"] = df[col_cuisines].apply(split_cuisines)\n",
    "    all_cuisines = [c for lst in df[\"_cuisine_list\"] for c in lst]\n",
    "    cuisine_counts = pd.Series(Counter(all_cuisines)).sort_values(ascending=False)\n",
    "    top3 = cuisine_counts.head(3)\n",
    "\n",
    "    print(\"\\nTask 1: Top 3 Cuisines\")\n",
    "    print(top3)\n"
   ]
  },
  {
   "cell_type": "code",
   "execution_count": 40,
   "id": "3d3ebfb6-def5-4d1b-beb6-c985d7125d09",
   "metadata": {},
   "outputs": [
    {
     "name": "stdout",
     "output_type": "stream",
     "text": [
      "North Indian: 41.46% of restaurants\n",
      "Chinese: 28.61% of restaurants\n",
      "Fast Food: 20.79% of restaurants\n"
     ]
    }
   ],
   "source": [
    "for c in top3.index:\n",
    "        percent = df[\"_cuisine_list\"].apply(lambda x: c in x).mean() * 100\n",
    "        print(f\"{c}: {percent:.2f}% of restaurants\")\n"
   ]
  },
  {
   "cell_type": "code",
   "execution_count": null,
   "id": "1b4733a4-0e33-4d76-a585-31bc34db3871",
   "metadata": {},
   "outputs": [],
   "source": []
  },
  {
   "cell_type": "markdown",
   "id": "dc5afd41-27d4-4921-b1a3-fcbb6f210468",
   "metadata": {},
   "source": [
    "### --- Task 2: City Analysis ---"
   ]
  },
  {
   "cell_type": "code",
   "execution_count": 44,
   "id": "7522e3ed-0b27-43ab-b08b-69db01563aec",
   "metadata": {},
   "outputs": [
    {
     "name": "stdout",
     "output_type": "stream",
     "text": [
      "\n",
      "Task 2: City with Most Restaurants -> New Delhi\n",
      "Task 2: City with Highest Avg Rating -> Inner City\n"
     ]
    }
   ],
   "source": [
    "if col_city:\n",
    "    city_counts = df.groupby(col_city)[col_name].nunique().sort_values(ascending=False)\n",
    "    city_avg_rating = df.groupby(col_city)[col_rating].mean().sort_values(ascending=False)\n",
    "\n",
    "    print(\"\\nTask 2: City with Most Restaurants ->\", city_counts.idxmax())\n",
    "    print(\"Task 2: City with Highest Avg Rating ->\", city_avg_rating.idxmax())"
   ]
  },
  {
   "cell_type": "code",
   "execution_count": 46,
   "id": "9920a206-af8c-4869-be47-103aec259e6e",
   "metadata": {},
   "outputs": [
    {
     "name": "stdout",
     "output_type": "stream",
     "text": [
      "\n",
      "City Summary (Top 5):\n",
      "           Restaurants  Avg_Rating\n",
      "city                              \n",
      "New Delhi         4295    2.438845\n",
      "Gurgaon            943    2.651431\n",
      "Noida              902    2.036204\n",
      "Faridabad          235    1.866932\n",
      "Ghaziabad           25    2.852000\n"
     ]
    }
   ],
   "source": [
    "    city_summary = pd.DataFrame({\n",
    "        \"Restaurants\": city_counts,\n",
    "        \"Avg_Rating\": df.groupby(col_city)[col_rating].mean()\n",
    "    }).sort_values(\"Restaurants\", ascending=False)\n",
    "print(\"\\nCity Summary (Top 5):\")\n",
    "    print(city_summary.head())"
   ]
  },
  {
   "cell_type": "code",
   "execution_count": null,
   "id": "0bb969f1-ca10-4128-a66e-7ba8fae349fb",
   "metadata": {},
   "outputs": [],
   "source": []
  },
  {
   "cell_type": "markdown",
   "id": "eb4c0b2a-ace2-4be7-86e4-10a595fb97a0",
   "metadata": {},
   "source": [
    "### --- Task 3: Price Range Distribution ---"
   ]
  },
  {
   "cell_type": "code",
   "execution_count": 49,
   "id": "46784d98-7a5a-46e1-bc6d-7e7e6699c5fc",
   "metadata": {},
   "outputs": [
    {
     "name": "stdout",
     "output_type": "stream",
     "text": [
      "\n",
      "Task 3: Price Range Distribution\n",
      "             Count  Percent\n",
      "price_range                \n",
      "1             4444    46.53\n",
      "2             3113    32.59\n",
      "3             1408    14.74\n",
      "4              586     6.14\n"
     ]
    }
   ],
   "source": [
    "if col_price:\n",
    "    price_counts = df[col_price].value_counts().sort_index()\n",
    "    price_percent = (price_counts / len(df) * 100).round(2)\n",
    "    price_dist = pd.DataFrame({\"Count\": price_counts, \"Percent\": price_percent})\n",
    "    print(\"\\nTask 3: Price Range Distribution\")\n",
    "    print(price_dist)"
   ]
  },
  {
   "cell_type": "code",
   "execution_count": null,
   "id": "8f0c6dc8-e08b-47ef-b2ee-e827ced3c90c",
   "metadata": {},
   "outputs": [],
   "source": []
  },
  {
   "cell_type": "markdown",
   "id": "f3c42f9b-7c5e-4fcd-ac28-c9842f857f73",
   "metadata": {},
   "source": [
    "### --- Task 4: Online Delivery ---"
   ]
  },
  {
   "cell_type": "code",
   "execution_count": 52,
   "id": "ea020f16-c76e-4a54-b563-eab28aeebc3f",
   "metadata": {},
   "outputs": [
    {
     "name": "stdout",
     "output_type": "stream",
     "text": [
      "\n",
      "Task 4: % of Restaurants with Online Delivery -> 25.66\n",
      "Avg Rating (Online Delivery = Yes): 3.2488372093023252\n",
      "Avg Rating (Online Delivery = No): 2.465295774647887\n"
     ]
    }
   ],
   "source": [
    "if col_online:\n",
    "    df[col_online] = df[col_online].astype(str).str.lower().map({\"yes\":1,\"no\":0})\n",
    "    pct_online = df[col_online].mean() * 100\n",
    "    ratings_by_delivery = df.groupby(col_online)[col_rating].mean()\n",
    "\n",
    "    print(\"\\nTask 4: % of Restaurants with Online Delivery ->\", round(pct_online, 2))\n",
    "    print(\"Avg Rating (Online Delivery = Yes):\", ratings_by_delivery.get(1, np.nan))\n",
    "    print(\"Avg Rating (Online Delivery = No):\", ratings_by_delivery.get(0, np.nan))"
   ]
  },
  {
   "cell_type": "code",
   "execution_count": null,
   "id": "a80faec5-ef30-469e-b01e-03dfa4c1cc30",
   "metadata": {},
   "outputs": [],
   "source": []
  },
  {
   "cell_type": "markdown",
   "id": "6f5df81c-d6f0-45f3-aa7e-9c94e287ab08",
   "metadata": {},
   "source": [
    "# LEVEL 2"
   ]
  },
  {
   "cell_type": "markdown",
   "id": "0953aeb8-ddd5-4d22-bf98-64fd440ee591",
   "metadata": {},
   "source": [
    "### --- Task 1: Ratings ---"
   ]
  },
  {
   "cell_type": "code",
   "execution_count": 57,
   "id": "d06ba6c3-842b-472c-886b-13e075c2e653",
   "metadata": {},
   "outputs": [
    {
     "name": "stdout",
     "output_type": "stream",
     "text": [
      "\n",
      "Task 1: Most Common Rating Range: (2.94, 3.43]\n",
      "Average Votes: 156.909747670401\n"
     ]
    }
   ],
   "source": [
    "if col_rating:\n",
    "    most_common_range = pd.cut(df[col_rating], bins=10).value_counts().idxmax()\n",
    "    avg_votes = df[col_votes].mean() if col_votes else None\n",
    "    print(\"\\nTask 1: Most Common Rating Range:\", most_common_range)\n",
    "    print(\"Average Votes:\", avg_votes)"
   ]
  },
  {
   "cell_type": "code",
   "execution_count": null,
   "id": "6005cabb-6daf-417c-ba03-8f4f42e7ed47",
   "metadata": {},
   "outputs": [],
   "source": []
  },
  {
   "cell_type": "markdown",
   "id": "e5807468-aa46-46b9-80a4-8a0443becd1e",
   "metadata": {},
   "source": [
    "### --- Task 2: Cuisine Combinations ---"
   ]
  },
  {
   "cell_type": "code",
   "execution_count": null,
   "id": "47323759-433b-48c1-90ae-50008f5cc543",
   "metadata": {},
   "outputs": [],
   "source": []
  },
  {
   "cell_type": "code",
   "execution_count": 66,
   "id": "f10b61c3-ef55-41f3-bda1-8f721e9ec483",
   "metadata": {},
   "outputs": [
    {
     "name": "stdout",
     "output_type": "stream",
     "text": [
      "\n",
      "Task 2: Top Cuisine Combinations\n",
      "_combo\n",
      "North Indian                      936\n",
      "Chinese, North Indian             616\n",
      "Mughlai, North Indian             394\n",
      "Chinese                           354\n",
      "Fast Food                         354\n",
      "Chinese, Mughlai, North Indian    306\n",
      "Cafe                              299\n",
      "Bakery                            218\n",
      "Bakery, Desserts                  181\n",
      "Chinese, Fast Food                159\n",
      "Name: count, dtype: int64\n"
     ]
    }
   ],
   "source": [
    "if col_cuisines:\n",
    "    df[\"_combo\"] = df[\"_cuisine_list\"].apply(lambda lst: \", \".join(sorted(lst)))\n",
    "    combo_counts = df[\"_combo\"].value_counts().head(10)\n",
    "    print(\"\\nTask 2: Top Cuisine Combinations\")\n",
    "    print(combo_counts)"
   ]
  },
  {
   "cell_type": "code",
   "execution_count": 68,
   "id": "11651148-520d-4b86-a8e7-9486359a0e28",
   "metadata": {},
   "outputs": [
    {
     "name": "stdout",
     "output_type": "stream",
     "text": [
      "\n",
      "Cuisine Combinations with Highest Avg Rating (min 5 restaurants):\n",
      "                                       count      mean\n",
      "_combo                                                \n",
      "European, Mediterranean, North Indian      8  4.587500\n",
      "Burger                                     6  4.450000\n",
      "Modern Indian                             11  4.345455\n",
      "Indian                                    18  4.250000\n",
      "International                              6  4.233333\n",
      "Italian, Pizza, Sandwich                   5  4.220000\n",
      "French                                     7  4.185714\n",
      "Steak                                      7  4.185714\n",
      "Pizza, Sandwich                            5  4.140000\n",
      "Seafood                                   14  4.114286\n"
     ]
    }
   ],
   "source": [
    "    combo_rating = df.groupby(\"_combo\")[col_rating].agg([\"count\",\"mean\"])\n",
    "    high_rating_combos = combo_rating[combo_rating[\"count\"] >= 5].sort_values(\"mean\", ascending=False).head(10)\n",
    "    print(\"\\nCuisine Combinations with Highest Avg Rating (min 5 restaurants):\")\n",
    "    print(high_rating_combos)"
   ]
  },
  {
   "cell_type": "code",
   "execution_count": null,
   "id": "08de4650-e023-4b5b-9336-156b83dd6492",
   "metadata": {},
   "outputs": [],
   "source": []
  },
  {
   "cell_type": "markdown",
   "id": "07b536df-81d0-49e3-b0c6-bbc5ceb9ca57",
   "metadata": {},
   "source": [
    "### --- Task 3: Geographic Analysis ---"
   ]
  },
  {
   "cell_type": "code",
   "execution_count": 72,
   "id": "3370087b-2632-4822-a46c-9420de5cda5a",
   "metadata": {},
   "outputs": [
    {
     "name": "stdout",
     "output_type": "stream",
     "text": [
      "\n",
      "Task 3: Geographic Analysis (sample coordinates)\n",
      "    longitude   latitude\n",
      "0  121.027535  14.565443\n",
      "1  121.014101  14.553708\n",
      "2  121.056831  14.581404\n",
      "3  121.056475  14.585318\n",
      "4  121.057508  14.584450\n"
     ]
    }
   ],
   "source": [
    "if \"longitude\" in df.columns and \"latitude\" in df.columns:\n",
    "    print(\"\\nTask 3: Geographic Analysis (sample coordinates)\")\n",
    "    print(df[[\"longitude\",\"latitude\"]].dropna().head())"
   ]
  },
  {
   "cell_type": "code",
   "execution_count": null,
   "id": "cfb2231e-c684-4555-a3f6-feb66004d83c",
   "metadata": {},
   "outputs": [],
   "source": []
  },
  {
   "cell_type": "markdown",
   "id": "68100e77-e670-48eb-b8ab-77e881a62ab8",
   "metadata": {},
   "source": [
    "### --- Task 4: Restaurant Chains ---"
   ]
  },
  {
   "cell_type": "code",
   "execution_count": 76,
   "id": "26af8957-dfbd-460a-933a-d7a2223be6db",
   "metadata": {},
   "outputs": [
    {
     "name": "stdout",
     "output_type": "stream",
     "text": [
      "\n",
      "Task 4: Restaurant Chains (Top 5):\n",
      "                  Restaurants  Avg_Rating  Total_Votes  \\\n",
      "restaurant_name                                          \n",
      "Cafe Coffee Day            83    2.419277         2428   \n",
      "Domino's Pizza             79    2.740506         6643   \n",
      "Subway                     63    2.907937         6124   \n",
      "Green Chick Chop           51    2.672549          964   \n",
      "McDonald's                 48    3.339583         5291   \n",
      "\n",
      "                                                             Cities  \n",
      "restaurant_name                                                      \n",
      "Cafe Coffee Day     Faridabad, Ghaziabad, Gurgaon, New Delhi, Noida  \n",
      "Domino's Pizza    Aurangabad, Faridabad, Ghaziabad, Gurgaon, Lud...  \n",
      "Subway              Allahabad, Faridabad, Gurgaon, New Delhi, Noida  \n",
      "Green Chick Chop               Faridabad, Gurgaon, New Delhi, Noida  \n",
      "McDonald's        Allahabad, Faridabad, Ghaziabad, Gurgaon, New ...  \n"
     ]
    }
   ],
   "source": [
    "chain_counts = df[col_name].value_counts()\n",
    "chains = chain_counts[chain_counts > 1]\n",
    "if not chains.empty:\n",
    "    chain_summary = df[df[col_name].isin(chains.index)].groupby(col_name).agg(\n",
    "        Restaurants=(col_name, \"count\"),\n",
    "        Avg_Rating=(col_rating, \"mean\"),\n",
    "        Total_Votes=(col_votes, \"sum\"),\n",
    "        Cities=(col_city, lambda x: \", \".join(sorted(set(x.dropna()))))\n",
    "    ).sort_values(\"Restaurants\", ascending=False)\n",
    "\n",
    "    print(\"\\nTask 4: Restaurant Chains (Top 5):\")\n",
    "    print(chain_summary.head())"
   ]
  },
  {
   "cell_type": "code",
   "execution_count": null,
   "id": "5dee0c0b-5be4-45ca-b462-3766c7007d16",
   "metadata": {},
   "outputs": [],
   "source": []
  },
  {
   "cell_type": "markdown",
   "id": "76ec690a-69df-4b3b-98f8-a578e2369596",
   "metadata": {},
   "source": [
    "# Level 3"
   ]
  },
  {
   "cell_type": "markdown",
   "id": "2f8ce522-6332-4ae6-81aa-604d2b3e6959",
   "metadata": {},
   "source": [
    "### --- Task 1: Restaurant Reviews ---"
   ]
  },
  {
   "cell_type": "code",
   "execution_count": 15,
   "id": "13b0a93d-4cff-4091-bf89-e05202a094e0",
   "metadata": {},
   "outputs": [
    {
     "ename": "FileNotFoundError",
     "evalue": "[Errno 2] No such file or directory: 'restaurant_data.csv'",
     "output_type": "error",
     "traceback": [
      "\u001b[1;31m---------------------------------------------------------------------------\u001b[0m",
      "\u001b[1;31mFileNotFoundError\u001b[0m                         Traceback (most recent call last)",
      "Cell \u001b[1;32mIn[15], line 5\u001b[0m\n\u001b[0;32m      2\u001b[0m \u001b[38;5;28;01mfrom\u001b[39;00m \u001b[38;5;21;01mcollections\u001b[39;00m \u001b[38;5;28;01mimport\u001b[39;00m Counter\n\u001b[0;32m      4\u001b[0m \u001b[38;5;66;03m# Load your dataset (replace with your actual file name)\u001b[39;00m\n\u001b[1;32m----> 5\u001b[0m df \u001b[38;5;241m=\u001b[39m pd\u001b[38;5;241m.\u001b[39mread_csv(\u001b[38;5;124m'\u001b[39m\u001b[38;5;124mrestaurant_data.csv\u001b[39m\u001b[38;5;124m'\u001b[39m)\n\u001b[0;32m      7\u001b[0m \u001b[38;5;66;03m# Check if 'Reviews' column exists\u001b[39;00m\n\u001b[0;32m      8\u001b[0m \u001b[38;5;28;01mif\u001b[39;00m \u001b[38;5;124m'\u001b[39m\u001b[38;5;124mReviews\u001b[39m\u001b[38;5;124m'\u001b[39m \u001b[38;5;129;01min\u001b[39;00m df\u001b[38;5;241m.\u001b[39mcolumns \u001b[38;5;129;01mand\u001b[39;00m \u001b[38;5;124m'\u001b[39m\u001b[38;5;124mAggregate_rating\u001b[39m\u001b[38;5;124m'\u001b[39m \u001b[38;5;129;01min\u001b[39;00m df\u001b[38;5;241m.\u001b[39mcolumns:\n\u001b[0;32m      9\u001b[0m     \u001b[38;5;66;03m# Combine all non-null reviews into one big string and split into words\u001b[39;00m\n",
      "File \u001b[1;32m~\\anaconda3\\Lib\\site-packages\\pandas\\io\\parsers\\readers.py:1026\u001b[0m, in \u001b[0;36mread_csv\u001b[1;34m(filepath_or_buffer, sep, delimiter, header, names, index_col, usecols, dtype, engine, converters, true_values, false_values, skipinitialspace, skiprows, skipfooter, nrows, na_values, keep_default_na, na_filter, verbose, skip_blank_lines, parse_dates, infer_datetime_format, keep_date_col, date_parser, date_format, dayfirst, cache_dates, iterator, chunksize, compression, thousands, decimal, lineterminator, quotechar, quoting, doublequote, escapechar, comment, encoding, encoding_errors, dialect, on_bad_lines, delim_whitespace, low_memory, memory_map, float_precision, storage_options, dtype_backend)\u001b[0m\n\u001b[0;32m   1013\u001b[0m kwds_defaults \u001b[38;5;241m=\u001b[39m _refine_defaults_read(\n\u001b[0;32m   1014\u001b[0m     dialect,\n\u001b[0;32m   1015\u001b[0m     delimiter,\n\u001b[1;32m   (...)\u001b[0m\n\u001b[0;32m   1022\u001b[0m     dtype_backend\u001b[38;5;241m=\u001b[39mdtype_backend,\n\u001b[0;32m   1023\u001b[0m )\n\u001b[0;32m   1024\u001b[0m kwds\u001b[38;5;241m.\u001b[39mupdate(kwds_defaults)\n\u001b[1;32m-> 1026\u001b[0m \u001b[38;5;28;01mreturn\u001b[39;00m _read(filepath_or_buffer, kwds)\n",
      "File \u001b[1;32m~\\anaconda3\\Lib\\site-packages\\pandas\\io\\parsers\\readers.py:620\u001b[0m, in \u001b[0;36m_read\u001b[1;34m(filepath_or_buffer, kwds)\u001b[0m\n\u001b[0;32m    617\u001b[0m _validate_names(kwds\u001b[38;5;241m.\u001b[39mget(\u001b[38;5;124m\"\u001b[39m\u001b[38;5;124mnames\u001b[39m\u001b[38;5;124m\"\u001b[39m, \u001b[38;5;28;01mNone\u001b[39;00m))\n\u001b[0;32m    619\u001b[0m \u001b[38;5;66;03m# Create the parser.\u001b[39;00m\n\u001b[1;32m--> 620\u001b[0m parser \u001b[38;5;241m=\u001b[39m TextFileReader(filepath_or_buffer, \u001b[38;5;241m*\u001b[39m\u001b[38;5;241m*\u001b[39mkwds)\n\u001b[0;32m    622\u001b[0m \u001b[38;5;28;01mif\u001b[39;00m chunksize \u001b[38;5;129;01mor\u001b[39;00m iterator:\n\u001b[0;32m    623\u001b[0m     \u001b[38;5;28;01mreturn\u001b[39;00m parser\n",
      "File \u001b[1;32m~\\anaconda3\\Lib\\site-packages\\pandas\\io\\parsers\\readers.py:1620\u001b[0m, in \u001b[0;36mTextFileReader.__init__\u001b[1;34m(self, f, engine, **kwds)\u001b[0m\n\u001b[0;32m   1617\u001b[0m     \u001b[38;5;28mself\u001b[39m\u001b[38;5;241m.\u001b[39moptions[\u001b[38;5;124m\"\u001b[39m\u001b[38;5;124mhas_index_names\u001b[39m\u001b[38;5;124m\"\u001b[39m] \u001b[38;5;241m=\u001b[39m kwds[\u001b[38;5;124m\"\u001b[39m\u001b[38;5;124mhas_index_names\u001b[39m\u001b[38;5;124m\"\u001b[39m]\n\u001b[0;32m   1619\u001b[0m \u001b[38;5;28mself\u001b[39m\u001b[38;5;241m.\u001b[39mhandles: IOHandles \u001b[38;5;241m|\u001b[39m \u001b[38;5;28;01mNone\u001b[39;00m \u001b[38;5;241m=\u001b[39m \u001b[38;5;28;01mNone\u001b[39;00m\n\u001b[1;32m-> 1620\u001b[0m \u001b[38;5;28mself\u001b[39m\u001b[38;5;241m.\u001b[39m_engine \u001b[38;5;241m=\u001b[39m \u001b[38;5;28mself\u001b[39m\u001b[38;5;241m.\u001b[39m_make_engine(f, \u001b[38;5;28mself\u001b[39m\u001b[38;5;241m.\u001b[39mengine)\n",
      "File \u001b[1;32m~\\anaconda3\\Lib\\site-packages\\pandas\\io\\parsers\\readers.py:1880\u001b[0m, in \u001b[0;36mTextFileReader._make_engine\u001b[1;34m(self, f, engine)\u001b[0m\n\u001b[0;32m   1878\u001b[0m     \u001b[38;5;28;01mif\u001b[39;00m \u001b[38;5;124m\"\u001b[39m\u001b[38;5;124mb\u001b[39m\u001b[38;5;124m\"\u001b[39m \u001b[38;5;129;01mnot\u001b[39;00m \u001b[38;5;129;01min\u001b[39;00m mode:\n\u001b[0;32m   1879\u001b[0m         mode \u001b[38;5;241m+\u001b[39m\u001b[38;5;241m=\u001b[39m \u001b[38;5;124m\"\u001b[39m\u001b[38;5;124mb\u001b[39m\u001b[38;5;124m\"\u001b[39m\n\u001b[1;32m-> 1880\u001b[0m \u001b[38;5;28mself\u001b[39m\u001b[38;5;241m.\u001b[39mhandles \u001b[38;5;241m=\u001b[39m get_handle(\n\u001b[0;32m   1881\u001b[0m     f,\n\u001b[0;32m   1882\u001b[0m     mode,\n\u001b[0;32m   1883\u001b[0m     encoding\u001b[38;5;241m=\u001b[39m\u001b[38;5;28mself\u001b[39m\u001b[38;5;241m.\u001b[39moptions\u001b[38;5;241m.\u001b[39mget(\u001b[38;5;124m\"\u001b[39m\u001b[38;5;124mencoding\u001b[39m\u001b[38;5;124m\"\u001b[39m, \u001b[38;5;28;01mNone\u001b[39;00m),\n\u001b[0;32m   1884\u001b[0m     compression\u001b[38;5;241m=\u001b[39m\u001b[38;5;28mself\u001b[39m\u001b[38;5;241m.\u001b[39moptions\u001b[38;5;241m.\u001b[39mget(\u001b[38;5;124m\"\u001b[39m\u001b[38;5;124mcompression\u001b[39m\u001b[38;5;124m\"\u001b[39m, \u001b[38;5;28;01mNone\u001b[39;00m),\n\u001b[0;32m   1885\u001b[0m     memory_map\u001b[38;5;241m=\u001b[39m\u001b[38;5;28mself\u001b[39m\u001b[38;5;241m.\u001b[39moptions\u001b[38;5;241m.\u001b[39mget(\u001b[38;5;124m\"\u001b[39m\u001b[38;5;124mmemory_map\u001b[39m\u001b[38;5;124m\"\u001b[39m, \u001b[38;5;28;01mFalse\u001b[39;00m),\n\u001b[0;32m   1886\u001b[0m     is_text\u001b[38;5;241m=\u001b[39mis_text,\n\u001b[0;32m   1887\u001b[0m     errors\u001b[38;5;241m=\u001b[39m\u001b[38;5;28mself\u001b[39m\u001b[38;5;241m.\u001b[39moptions\u001b[38;5;241m.\u001b[39mget(\u001b[38;5;124m\"\u001b[39m\u001b[38;5;124mencoding_errors\u001b[39m\u001b[38;5;124m\"\u001b[39m, \u001b[38;5;124m\"\u001b[39m\u001b[38;5;124mstrict\u001b[39m\u001b[38;5;124m\"\u001b[39m),\n\u001b[0;32m   1888\u001b[0m     storage_options\u001b[38;5;241m=\u001b[39m\u001b[38;5;28mself\u001b[39m\u001b[38;5;241m.\u001b[39moptions\u001b[38;5;241m.\u001b[39mget(\u001b[38;5;124m\"\u001b[39m\u001b[38;5;124mstorage_options\u001b[39m\u001b[38;5;124m\"\u001b[39m, \u001b[38;5;28;01mNone\u001b[39;00m),\n\u001b[0;32m   1889\u001b[0m )\n\u001b[0;32m   1890\u001b[0m \u001b[38;5;28;01massert\u001b[39;00m \u001b[38;5;28mself\u001b[39m\u001b[38;5;241m.\u001b[39mhandles \u001b[38;5;129;01mis\u001b[39;00m \u001b[38;5;129;01mnot\u001b[39;00m \u001b[38;5;28;01mNone\u001b[39;00m\n\u001b[0;32m   1891\u001b[0m f \u001b[38;5;241m=\u001b[39m \u001b[38;5;28mself\u001b[39m\u001b[38;5;241m.\u001b[39mhandles\u001b[38;5;241m.\u001b[39mhandle\n",
      "File \u001b[1;32m~\\anaconda3\\Lib\\site-packages\\pandas\\io\\common.py:873\u001b[0m, in \u001b[0;36mget_handle\u001b[1;34m(path_or_buf, mode, encoding, compression, memory_map, is_text, errors, storage_options)\u001b[0m\n\u001b[0;32m    868\u001b[0m \u001b[38;5;28;01melif\u001b[39;00m \u001b[38;5;28misinstance\u001b[39m(handle, \u001b[38;5;28mstr\u001b[39m):\n\u001b[0;32m    869\u001b[0m     \u001b[38;5;66;03m# Check whether the filename is to be opened in binary mode.\u001b[39;00m\n\u001b[0;32m    870\u001b[0m     \u001b[38;5;66;03m# Binary mode does not support 'encoding' and 'newline'.\u001b[39;00m\n\u001b[0;32m    871\u001b[0m     \u001b[38;5;28;01mif\u001b[39;00m ioargs\u001b[38;5;241m.\u001b[39mencoding \u001b[38;5;129;01mand\u001b[39;00m \u001b[38;5;124m\"\u001b[39m\u001b[38;5;124mb\u001b[39m\u001b[38;5;124m\"\u001b[39m \u001b[38;5;129;01mnot\u001b[39;00m \u001b[38;5;129;01min\u001b[39;00m ioargs\u001b[38;5;241m.\u001b[39mmode:\n\u001b[0;32m    872\u001b[0m         \u001b[38;5;66;03m# Encoding\u001b[39;00m\n\u001b[1;32m--> 873\u001b[0m         handle \u001b[38;5;241m=\u001b[39m \u001b[38;5;28mopen\u001b[39m(\n\u001b[0;32m    874\u001b[0m             handle,\n\u001b[0;32m    875\u001b[0m             ioargs\u001b[38;5;241m.\u001b[39mmode,\n\u001b[0;32m    876\u001b[0m             encoding\u001b[38;5;241m=\u001b[39mioargs\u001b[38;5;241m.\u001b[39mencoding,\n\u001b[0;32m    877\u001b[0m             errors\u001b[38;5;241m=\u001b[39merrors,\n\u001b[0;32m    878\u001b[0m             newline\u001b[38;5;241m=\u001b[39m\u001b[38;5;124m\"\u001b[39m\u001b[38;5;124m\"\u001b[39m,\n\u001b[0;32m    879\u001b[0m         )\n\u001b[0;32m    880\u001b[0m     \u001b[38;5;28;01melse\u001b[39;00m:\n\u001b[0;32m    881\u001b[0m         \u001b[38;5;66;03m# Binary mode\u001b[39;00m\n\u001b[0;32m    882\u001b[0m         handle \u001b[38;5;241m=\u001b[39m \u001b[38;5;28mopen\u001b[39m(handle, ioargs\u001b[38;5;241m.\u001b[39mmode)\n",
      "\u001b[1;31mFileNotFoundError\u001b[0m: [Errno 2] No such file or directory: 'restaurant_data.csv'"
     ]
    }
   ],
   "source": [
    "import pandas as pd\n",
    "from collections import Counter\n",
    "\n",
    "# Load your dataset (replace with your actual file name)\n",
    "df = pd.read_csv('restaurant_data.csv')\n",
    "\n",
    "# Check if 'Reviews' column exists\n",
    "if 'Reviews' in df.columns and 'Aggregate_rating' in df.columns:\n",
    "    # Combine all non-null reviews into one big string and split into words\n",
    "    positive_keywords = Counter(' '.join(df['Reviews'].dropna()).split())\n",
    "\n",
    "    # Create a new column for review length\n",
    "    df['Review_length'] = df['Reviews'].fillna('').str.len()\n",
    "    \n",
    "    # Calculate correlation between review length and aggregate rating\n",
    "    length_rating_corr = df[['Review_length', 'Aggregate_rating']].corr()\n",
    "    \n",
    "    print(\"Most common keywords in reviews:\")\n",
    "    print(positive_keywords.most_common(10))\n",
    "    print(\"\\nCorrelation between review length and rating:\")\n",
    "    print(length_rating_corr)\n",
    "else:\n",
    "    print(\"The required columns 'Reviews' and/or 'Aggregate_rating' do not exist in the dataset.\")"
   ]
  },
  {
   "cell_type": "code",
   "execution_count": null,
   "id": "5eb82c7a-74dc-456c-99ac-f886b9842cee",
   "metadata": {},
   "outputs": [],
   "source": []
  },
  {
   "cell_type": "markdown",
   "id": "c7539b45-b3a5-49f8-9db5-9e24468c37df",
   "metadata": {},
   "source": [
    "### --- Task 2: Votes Analysis ---"
   ]
  },
  {
   "cell_type": "code",
   "execution_count": 117,
   "id": "41aed09e-3696-48e1-a551-ebbdcb46037e",
   "metadata": {},
   "outputs": [
    {
     "name": "stdout",
     "output_type": "stream",
     "text": [
      "\n",
      "Task 2: Top Voted Restaurant\n",
      " restaurant_name          Toit\n",
      "city                Bangalore\n",
      "votes                   10934\n",
      "aggregate_rating          4.8\n",
      "Name: 728, dtype: object\n",
      "Lowest Voted Restaurant\n",
      " restaurant_name     Cantinho da Gula\n",
      "city                      S��o Paulo\n",
      "votes                              0\n",
      "aggregate_rating                 0.0\n",
      "Name: 69, dtype: object\n",
      "Correlation between Votes & Rating: 0.31369058419540985\n"
     ]
    }
   ],
   "source": [
    "if col_votes:\n",
    "    top_voted = df.loc[df[col_votes].idxmax(), [col_name, col_city, col_votes, col_rating]]\n",
    "    low_voted = df.loc[df[col_votes].idxmin(), [col_name, col_city, col_votes, col_rating]]\n",
    "    corr = df[[col_votes, col_rating]].corr().iloc[0,1]\n",
    "\n",
    "    print(\"\\nTask 2: Top Voted Restaurant\\n\", top_voted)\n",
    "    print(\"Lowest Voted Restaurant\\n\", low_voted)\n",
    "    print(\"Correlation between Votes & Rating:\", corr)"
   ]
  },
  {
   "cell_type": "code",
   "execution_count": null,
   "id": "b02814f3-e3cc-4145-a058-75b91bb07744",
   "metadata": {},
   "outputs": [],
   "source": []
  },
  {
   "cell_type": "markdown",
   "id": "6b750fb9-1430-4983-abc3-8d069c23b467",
   "metadata": {},
   "source": [
    "### --- Task 3: Price Range vs Online Delivery & Table Booking ---"
   ]
  },
  {
   "cell_type": "code",
   "execution_count": 120,
   "id": "29a75af9-bd72-4f76-99bf-b07d1a409ddf",
   "metadata": {},
   "outputs": [
    {
     "name": "stdout",
     "output_type": "stream",
     "text": [
      "\n",
      "Task 3: Price Range vs Services\n",
      "             Restaurants  OnlineDelivery  TableBooking\n",
      "price_range                                           \n",
      "1                   4444        0.157741      0.000225\n",
      "2                   3113        0.413106      0.076775\n",
      "3                   1408        0.291903      0.457386\n",
      "4                    586        0.090444      0.467577\n"
     ]
    }
   ],
   "source": [
    "if col_price and col_online and col_table:\n",
    "    df[col_table] = df[col_table].astype(str).str.lower().map({\"yes\":1,\"no\":0})\n",
    "    piv = df.groupby(col_price).agg(\n",
    "        Restaurants=(col_price, \"count\"),\n",
    "        OnlineDelivery=(col_online, \"mean\"),\n",
    "        TableBooking=(col_table, \"mean\")\n",
    "    )\n",
    "    print(\"\\nTask 3: Price Range vs Services\")\n",
    "    print(piv)"
   ]
  },
  {
   "cell_type": "code",
   "execution_count": null,
   "id": "bc4f3dfd-6a0a-4ab9-8e53-5264f851089f",
   "metadata": {},
   "outputs": [],
   "source": []
  },
  {
   "cell_type": "code",
   "execution_count": null,
   "id": "549f8742-80ee-4e77-b65e-653b51d711ae",
   "metadata": {},
   "outputs": [],
   "source": []
  },
  {
   "cell_type": "code",
   "execution_count": null,
   "id": "ed76299b-bdd2-4a47-8eba-282462884721",
   "metadata": {},
   "outputs": [],
   "source": []
  },
  {
   "cell_type": "code",
   "execution_count": null,
   "id": "d04f6a86-e05c-4bac-b6c8-5ca9fd000157",
   "metadata": {},
   "outputs": [],
   "source": []
  },
  {
   "cell_type": "code",
   "execution_count": null,
   "id": "ea82d016-623e-4de2-aea5-1c43a503fb3c",
   "metadata": {},
   "outputs": [],
   "source": []
  }
 ],
 "metadata": {
  "kernelspec": {
   "display_name": "Python 3 (ipykernel)",
   "language": "python",
   "name": "python3"
  },
  "language_info": {
   "codemirror_mode": {
    "name": "ipython",
    "version": 3
   },
   "file_extension": ".py",
   "mimetype": "text/x-python",
   "name": "python",
   "nbconvert_exporter": "python",
   "pygments_lexer": "ipython3",
   "version": "3.12.4"
  }
 },
 "nbformat": 4,
 "nbformat_minor": 5
}
